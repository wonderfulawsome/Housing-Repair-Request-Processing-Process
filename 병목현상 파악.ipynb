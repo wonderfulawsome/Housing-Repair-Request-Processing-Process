{
 "cells": [
  {
   "cell_type": "markdown",
   "metadata": {},
   "source": [
    "# 프로세스 파악\n",
    "- 이상치 까지 전처리 후,  같은caseID의 같은taskID 에서 start, complete가 둘다 존재하는 taskID에서 둘중 한 행을 삭제 후 시간 정렬과 caseID그룹화를 통해 프로세스 파악을 한다"
   ]
  },
  {
   "cell_type": "code",
   "execution_count": 56,
   "metadata": {},
   "outputs": [],
   "source": [
    "import pandas as pd\n",
    "\n",
    "# CSV 파일 읽기\n",
    "df = pd.read_csv(r'C:\\Users\\82106\\Desktop\\과제테스트\\repair2.csv')"
   ]
  },
  {
   "cell_type": "code",
   "execution_count": 57,
   "metadata": {},
   "outputs": [
    {
     "data": {
      "text/plain": [
       "array(['InformClientSurvey', 'ArrangeSurvey', 'ReadyInformClient',\n",
       "       'Survey', 'TicketReady', 'MakeTicket', 'InternRepair',\n",
       "       'FirstContact', 'RepairReady', 'SendTicketToFinAdmin',\n",
       "       'InformClientWrongPlace', 'ImmediateRepair', 'ExternRepair', nan],\n",
       "      dtype=object)"
      ]
     },
     "execution_count": 57,
     "metadata": {},
     "output_type": "execute_result"
    }
   ],
   "source": [
    "df['taskID'].unique()"
   ]
  },
  {
   "cell_type": "code",
   "execution_count": 58,
   "metadata": {},
   "outputs": [],
   "source": [
    "#'taskID', 'originator', 'eventtype' 결측치 존재 행 삭제\n",
    "df = df.dropna(subset=['taskID', 'originator', 'eventtype','date','time'])\n",
    "\n",
    "# 이외의 결측치는 NaN으로 채우기\n",
    "df[['contact', 'RepairType', 'objectKey', 'RepairInternally', 'EstimatedRepairTime', 'RepairCode', 'RepairOK']]= df[['contact', 'RepairType', 'objectKey', 'RepairInternally', 'EstimatedRepairTime', 'RepairCode', 'RepairOK']].fillna(pd.NA)\n",
    "\n",
    "# date와 time 컬럼을 합쳐 datetime 컬럼 생성\n",
    "df['datetime'] = pd.to_datetime(df['date'].astype(str) + ' ' + df['time'].astype(str), errors='coerce')\n",
    "\n",
    "# caseID와 taskID를 기준으로 피벗하여 start와 complete 이벤트를 하나의 행으로 결합\n",
    "pivot = df.pivot_table(index=['caseID', 'taskID'],\n",
    "                       columns='eventtype',\n",
    "                       values='datetime',\n",
    "                       aggfunc='min')\n",
    "\n",
    "# start와 complete 모두 존재하는 행에 대해 시간 차이 계산 \n",
    "mask_both = pivot['start'].notna() & pivot['complete'].notna()\n",
    "pivot.loc[mask_both, 'time_diff'] = pivot.loc[mask_both, 'complete'] - pivot.loc[mask_both, 'start']\n",
    "\n",
    "# 시간 차이가 너무 큰 행에서 complete 또는 start 중 하나만 삭제\n",
    "threshold = pd.Timedelta(days=100)\n",
    "\n",
    "# start가 남아야 하는 경우 complete만 삭제\n",
    "pivot.loc[mask_both & (pivot['time_diff'] > threshold), 'complete'] = pd.NaT\n",
    "\n",
    "# complete가 남아야 하는 경우 start만 삭제\n",
    "pivot.loc[mask_both & (pivot['time_diff'] > threshold), 'start'] = pd.NaT\n",
    "\n",
    "# 피벗 테이블을 다시 원본 형식으로 변환\n",
    "pivot = pivot.stack().reset_index().rename(columns={0: 'datetime'})\n",
    "\n",
    "# 데이터 타입 문제 해결을 위해 datetime 컬럼 타입 일관성 유지\n",
    "pivot['datetime'] = pd.to_datetime(pivot['datetime'], errors='coerce')\n",
    "df['datetime'] = pd.to_datetime(df['datetime'], errors='coerce')\n",
    "\n",
    "# 다시 원본 데이터와 병합하여 반영\n",
    "df = df.merge(pivot, on=['caseID', 'taskID', 'eventtype', 'datetime'], how='right')\n",
    "\n",
    "# 결과 확인을 위해 정렬\n",
    "df = df.sort_values(by=['caseID', 'datetime'])"
   ]
  },
  {
   "cell_type": "code",
   "execution_count": null,
   "metadata": {},
   "outputs": [
    {
     "name": "stderr",
     "output_type": "stream",
     "text": [
      "C:\\Users\\82106\\AppData\\Local\\Temp\\ipykernel_23536\\3082783574.py:12: DeprecationWarning: DataFrameGroupBy.apply operated on the grouping columns. This behavior is deprecated, and in a future version of pandas the grouping columns will be excluded from the operation. Either pass `include_groups=False` to exclude the groupings or explicitly select the grouping columns after groupby to silence this warning.\n",
      "  df = df.groupby(['caseID', 'taskID'], group_keys=False).apply(drop_duplicate_eventtypes)\n"
     ]
    }
   ],
   "source": [
    "# 같은 caseID와 taskID 그룹으로 묶어 처리\n",
    "def drop_duplicate_eventtypes(group):\n",
    "    # group 내 eventtype의 집합\n",
    "    event_set = set(group['eventtype'])\n",
    "    # start와 complete가 모두 존재하면 그룹에서 첫 번째 행만 반환\n",
    "    if 'start' in event_set and 'complete' in event_set:\n",
    "        return group.iloc[[0]]\n",
    "    # 그렇지 않으면 그룹 전체 반환\n",
    "    return group\n",
    "\n",
    "# 그룹별로 적용하여 필터링\n",
    "df = df.groupby(['caseID', 'taskID'], group_keys=False).apply(drop_duplicate_eventtypes)"
   ]
  },
  {
   "cell_type": "code",
   "execution_count": 60,
   "metadata": {},
   "outputs": [],
   "source": [
    "# caseID별로 그룹화 후 시간 정렬\n",
    "df = df.sort_values(by=['caseID', 'datetime'])\n",
    "\n",
    "# caseID별로 프로세스 파악을 위한 그룹핑\n",
    "grouped = df.groupby('caseID').agg({'taskID': list, 'datetime': list, 'eventtype': list})"
   ]
  },
  {
   "cell_type": "code",
   "execution_count": 61,
   "metadata": {},
   "outputs": [
    {
     "data": {
      "text/html": [
       "<div>\n",
       "<style scoped>\n",
       "    .dataframe tbody tr th:only-of-type {\n",
       "        vertical-align: middle;\n",
       "    }\n",
       "\n",
       "    .dataframe tbody tr th {\n",
       "        vertical-align: top;\n",
       "    }\n",
       "\n",
       "    .dataframe thead th {\n",
       "        text-align: right;\n",
       "    }\n",
       "</style>\n",
       "<table border=\"1\" class=\"dataframe\">\n",
       "  <thead>\n",
       "    <tr style=\"text-align: right;\">\n",
       "      <th></th>\n",
       "      <th>taskID</th>\n",
       "      <th>eventtype</th>\n",
       "    </tr>\n",
       "    <tr>\n",
       "      <th>caseID</th>\n",
       "      <th></th>\n",
       "      <th></th>\n",
       "    </tr>\n",
       "  </thead>\n",
       "  <tbody>\n",
       "    <tr>\n",
       "      <th>1</th>\n",
       "      <td>[FirstContact, MakeTicket, ArrangeSurvey, Info...</td>\n",
       "      <td>[complete, start, start, complete, start, star...</td>\n",
       "    </tr>\n",
       "    <tr>\n",
       "      <th>2</th>\n",
       "      <td>[FirstContact, MakeTicket, ArrangeSurvey, Info...</td>\n",
       "      <td>[complete, start, start, complete, start, star...</td>\n",
       "    </tr>\n",
       "    <tr>\n",
       "      <th>3</th>\n",
       "      <td>[FirstContact, MakeTicket, ArrangeSurvey, Info...</td>\n",
       "      <td>[complete, start, start, complete, start, star...</td>\n",
       "    </tr>\n",
       "    <tr>\n",
       "      <th>4</th>\n",
       "      <td>[FirstContact, MakeTicket, ArrangeSurvey, Info...</td>\n",
       "      <td>[complete, start, complete, complete, start, s...</td>\n",
       "    </tr>\n",
       "    <tr>\n",
       "      <th>5</th>\n",
       "      <td>[FirstContact, MakeTicket, ArrangeSurvey, Info...</td>\n",
       "      <td>[complete, start, start, complete, start, star...</td>\n",
       "    </tr>\n",
       "    <tr>\n",
       "      <th>...</th>\n",
       "      <td>...</td>\n",
       "      <td>...</td>\n",
       "    </tr>\n",
       "    <tr>\n",
       "      <th>996</th>\n",
       "      <td>[FirstContact, MakeTicket, ArrangeSurvey, Info...</td>\n",
       "      <td>[complete, start, start, complete, start, star...</td>\n",
       "    </tr>\n",
       "    <tr>\n",
       "      <th>997</th>\n",
       "      <td>[FirstContact, MakeTicket, ArrangeSurvey, Info...</td>\n",
       "      <td>[complete, start, start, complete, start, star...</td>\n",
       "    </tr>\n",
       "    <tr>\n",
       "      <th>998</th>\n",
       "      <td>[FirstContact, ArrangeSurvey, InformClientSurv...</td>\n",
       "      <td>[complete, start, complete, start, start, comp...</td>\n",
       "    </tr>\n",
       "    <tr>\n",
       "      <th>999</th>\n",
       "      <td>[FirstContact, MakeTicket, ArrangeSurvey, Info...</td>\n",
       "      <td>[complete, start, start, complete, start, star...</td>\n",
       "    </tr>\n",
       "    <tr>\n",
       "      <th>1000</th>\n",
       "      <td>[FirstContact, MakeTicket, ArrangeSurvey, Info...</td>\n",
       "      <td>[complete, start, start, complete, start, star...</td>\n",
       "    </tr>\n",
       "  </tbody>\n",
       "</table>\n",
       "<p>1000 rows × 2 columns</p>\n",
       "</div>"
      ],
      "text/plain": [
       "                                                   taskID  \\\n",
       "caseID                                                      \n",
       "1       [FirstContact, MakeTicket, ArrangeSurvey, Info...   \n",
       "2       [FirstContact, MakeTicket, ArrangeSurvey, Info...   \n",
       "3       [FirstContact, MakeTicket, ArrangeSurvey, Info...   \n",
       "4       [FirstContact, MakeTicket, ArrangeSurvey, Info...   \n",
       "5       [FirstContact, MakeTicket, ArrangeSurvey, Info...   \n",
       "...                                                   ...   \n",
       "996     [FirstContact, MakeTicket, ArrangeSurvey, Info...   \n",
       "997     [FirstContact, MakeTicket, ArrangeSurvey, Info...   \n",
       "998     [FirstContact, ArrangeSurvey, InformClientSurv...   \n",
       "999     [FirstContact, MakeTicket, ArrangeSurvey, Info...   \n",
       "1000    [FirstContact, MakeTicket, ArrangeSurvey, Info...   \n",
       "\n",
       "                                                eventtype  \n",
       "caseID                                                     \n",
       "1       [complete, start, start, complete, start, star...  \n",
       "2       [complete, start, start, complete, start, star...  \n",
       "3       [complete, start, start, complete, start, star...  \n",
       "4       [complete, start, complete, complete, start, s...  \n",
       "5       [complete, start, start, complete, start, star...  \n",
       "...                                                   ...  \n",
       "996     [complete, start, start, complete, start, star...  \n",
       "997     [complete, start, start, complete, start, star...  \n",
       "998     [complete, start, complete, start, start, comp...  \n",
       "999     [complete, start, start, complete, start, star...  \n",
       "1000    [complete, start, start, complete, start, star...  \n",
       "\n",
       "[1000 rows x 2 columns]"
      ]
     },
     "execution_count": 61,
     "metadata": {},
     "output_type": "execute_result"
    }
   ],
   "source": [
    "grouped[['taskID','eventtype']]"
   ]
  },
  {
   "cell_type": "markdown",
   "metadata": {},
   "source": [
    "# 프로세스 유형별 정리\n",
    "| Process Type | Count | Flow | 설명 |\n",
    "|-------------|-------|------|------|\n",
    "| **Type 1**  | 77    | FirstContact → MakeTicket → ArrangeSurvey → InformClientSurvey → Survey → InternRepair → RepairReady → SendTicketToFinAdmin → ReadyInformClient | 최초 접수 후 티켓 생성 및 조사 일정 조정이 한 번씩 진행되며, 조사 후 내부 수리, 수리 완료, 고객 안내, 재무 관리자에게 티켓 전송 순으로 진행됨. |\n",
    "| **Type 2**  | 69    | FirstContact → MakeTicket → ArrangeSurvey → InformClientSurvey → Survey → ImmediateRepair → RepairReady → ReadyInformClient → SendTicketToFinAdmin | 최초 접수 후 티켓 생성과 조사 일정 조정, 조사 진행 후 즉시 수리, 수리 완료, 고객 안내, 재무 관리자에게 티켓 전송 순으로 진행됨. |\n",
    "| **Type 3**  | 67    | FirstContact → MakeTicket → ArrangeSurvey → InformClientSurvey → Survey → InternRepair → RepairReady → ReadyInformClient → SendTicketToFinAdmin | 최초 접수 후 티켓 생성과 조사 일정 조정, 조사 진행 후 내부 수리, 수리 완료, 고객 안내, 재무 관리자에게 티켓 전송 순으로 진행됨. |\n",
    "| **Type 4**  | 63    | FirstContact | 최초 접수 후 추가 작업 없이 종료됨 (미완료 요청 혹은 처리되지 않은 사례). |\n",
    "| **Type 5**  | 48    | FirstContact → MakeTicket → ArrangeSurvey → InformClientSurvey → Survey → ImmediateRepair → RepairReady → SendTicketToFinAdmin → ReadyInformClient | 최초 접수 후 티켓 생성과 조사 일정 조정, 조사 후 즉시 수리, 수리 완료, 재무 관리자에게 티켓 전송 및 고객 안내 순으로 진행됨. |\n",
    "| **Type 6**  | 21    | FirstContact → MakeTicket → ArrangeSurvey → InformClientSurvey → Survey → InternRepair → RepairReady → ReadyInformClient | 최초 접수 후 티켓 생성과 조사 일정 조정, 조사 후 내부 수리, 수리 완료 및 고객 안내 순으로 진행됨. |\n",
    "| **Type 7**  | 17    | FirstContact → MakeTicket → ArrangeSurvey → InformClientSurvey → Survey → InternRepair → RepairReady → SendTicketToFinAdmin → ReadyInformClient | 최초 접수 후 티켓 생성과 조사 일정 조정, 조사 후 내부 수리, 수리 완료, 재무 관리자에게 티켓 전송 및 고객 안내 순으로 진행됨. |\n",
    "| **Type 8**  | 17    | FirstContact → MakeTicket → ArrangeSurvey → InformClientSurvey → Survey → ExternRepair → RepairReady → SendTicketToFinAdmin → ReadyInformClient | 최초 접수 후 티켓 생성과 조사 일정 조정, 조사 후 외부 수리, 수리 완료, 재무 관리자에게 티켓 전송 및 고객 안내 순으로 진행됨. |\n",
    "| **Type 9**  | 15    | FirstContact → MakeTicket → ArrangeSurvey → InformClientSurvey → Survey → InternRepair → RepairReady → ReadyInformClient → SendTicketToFinAdmin | 최초 접수 후 티켓 생성과 조사 일정 조정, 조사와 내부 수리 진행, 수리 완료, 고객 안내, 재무 관리자에게 티켓 전송 순으로 진행됨. |\n",
    "| **Type 10** | 14    | FirstContact → MakeTicket → ArrangeSurvey → InformClientSurvey → Survey → RepairReady → ReadyInformClient → SendTicketToFinAdmin | 최초 접수 후 티켓 생성과 조사 일정 조정, 조사 후 바로 수리 완료, 고객 안내, 재무 관리자에게 티켓 전송 순으로 진행됨. |\n"
   ]
  },
  {
   "cell_type": "markdown",
   "metadata": {},
   "source": [
    "### 🔍 분석 요약\n",
    "\n",
    "1. **일반적인 프로세스 흐름**  \n",
    "   - 대부분의 프로세스는 **FirstContact(최초 접수)** 후 **MakeTicket(티켓 생성)** 및 **ArrangeSurvey(조사 일정 조정)** 단계를 거침.\n",
    "   - 이후 **InformClientSurvey(조사 일정 안내) → Survey(조사 진행)** 과정이 진행됨.\n",
    "\n",
    "2. **수리 유형 분류**  \n",
    "   - **Survey(조사 진행)** 이후 다음 중 하나가 수행됨:\n",
    "     - **InternRepair(내부 수리)**\n",
    "     - **ImmediateRepair(즉시 수리)**\n",
    "     - **ExternRepair(외부 수리)**  \n",
    "   - 수리가 완료되면 **RepairReady(수리 준비 완료) → ReadyInformClient(고객에게 준비 완료 안내) → SendTicketToFinAdmin(재무 관리자에게 티켓 전송)** 과정을 거침.\n",
    "\n",
    "3. **미완료된 요청 가능성**  \n",
    "   - **Process Type 4**는 **FirstContact(최초 접수)** 이후 추가적인 작업이 진행되지 않음.\n",
    "   - 이는 미완료된 요청이거나 초기 단계에서 중단된 사례일 가능성이 있음.\n"
   ]
  },
  {
   "cell_type": "markdown",
   "metadata": {},
   "source": [
    "\n",
    "##### 병목현상 분석 : 다음 프로세스까지 시간계산 (기간차이 이상치는 제거하고 진행)"
   ]
  },
  {
   "cell_type": "code",
   "execution_count": 70,
   "metadata": {},
   "outputs": [],
   "source": [
    "# 병목 현상 분석: 동일 taskID 내에서 평균 수행 시간이 긴 경우 찾기\n",
    "\n",
    "# 기간 차이가 많이 나는 행 삭제\n",
    "threshold_days = pd.Timedelta(days=5000)\n",
    "df['next_datetime'] = df.groupby('caseID')['datetime'].shift(-1)\n",
    "df['time_diff'] = df['next_datetime'] - df['datetime']\n",
    "\n",
    "# 기간 이상 차이가 나는 행(이상치) 삭제\n",
    "df = df[df['time_diff'] <= threshold_days]\n",
    "\n",
    "# taskID -> 다음 taskID로 수행 시간 분석\n",
    "df['next_taskID'] = df.groupby('caseID')['taskID'].shift(-1)\n",
    "task_transition_time = df.groupby(['taskID', 'next_taskID'])['time_diff'].mean().reset_index()\n",
    "\n",
    "# 일정 시간 이상 걸리는 작업 흐름을 병목 현상으로 분류 (평균 수행 시간 1일 이상)\n",
    "bottleneck_threshold = pd.Timedelta(days=1)\n",
    "bottleneck_transitions = task_transition_time[task_transition_time['time_diff'] > bottleneck_threshold]\n",
    "\n",
    "# 병목 현상 분석 결과를 긴 순서대로 정렬\n",
    "bottleneck_transitions_sorted= bottleneck_transitions.sort_values(by='time_diff', ascending=False).reset_index(drop=True)"
   ]
  },
  {
   "cell_type": "code",
   "execution_count": 71,
   "metadata": {},
   "outputs": [
    {
     "data": {
      "text/html": [
       "<div>\n",
       "<style scoped>\n",
       "    .dataframe tbody tr th:only-of-type {\n",
       "        vertical-align: middle;\n",
       "    }\n",
       "\n",
       "    .dataframe tbody tr th {\n",
       "        vertical-align: top;\n",
       "    }\n",
       "\n",
       "    .dataframe thead th {\n",
       "        text-align: right;\n",
       "    }\n",
       "</style>\n",
       "<table border=\"1\" class=\"dataframe\">\n",
       "  <thead>\n",
       "    <tr style=\"text-align: right;\">\n",
       "      <th></th>\n",
       "      <th>taskID</th>\n",
       "      <th>next_taskID</th>\n",
       "      <th>time_diff</th>\n",
       "    </tr>\n",
       "  </thead>\n",
       "  <tbody>\n",
       "    <tr>\n",
       "      <th>0</th>\n",
       "      <td>MakeTicket</td>\n",
       "      <td>Survey</td>\n",
       "      <td>7 days 21:37:30</td>\n",
       "    </tr>\n",
       "    <tr>\n",
       "      <th>1</th>\n",
       "      <td>ArrangeSurvey</td>\n",
       "      <td>InternRepair</td>\n",
       "      <td>6 days 18:52:00</td>\n",
       "    </tr>\n",
       "    <tr>\n",
       "      <th>2</th>\n",
       "      <td>InformClientSurvey</td>\n",
       "      <td>ExternRepair</td>\n",
       "      <td>3 days 14:51:15</td>\n",
       "    </tr>\n",
       "    <tr>\n",
       "      <th>3</th>\n",
       "      <td>InformClientSurvey</td>\n",
       "      <td>Survey</td>\n",
       "      <td>3 days 05:46:51.269841269</td>\n",
       "    </tr>\n",
       "    <tr>\n",
       "      <th>4</th>\n",
       "      <td>InformClientSurvey</td>\n",
       "      <td>InternRepair</td>\n",
       "      <td>3 days 05:09:43.846153846</td>\n",
       "    </tr>\n",
       "    <tr>\n",
       "      <th>5</th>\n",
       "      <td>InformClientSurvey</td>\n",
       "      <td>ImmediateRepair</td>\n",
       "      <td>3 days 02:31:22.500000</td>\n",
       "    </tr>\n",
       "    <tr>\n",
       "      <th>6</th>\n",
       "      <td>ArrangeSurvey</td>\n",
       "      <td>Survey</td>\n",
       "      <td>3 days 00:22:20</td>\n",
       "    </tr>\n",
       "    <tr>\n",
       "      <th>7</th>\n",
       "      <td>Survey</td>\n",
       "      <td>InternRepair</td>\n",
       "      <td>1 days 07:48:56.099071207</td>\n",
       "    </tr>\n",
       "  </tbody>\n",
       "</table>\n",
       "</div>"
      ],
      "text/plain": [
       "               taskID      next_taskID                 time_diff\n",
       "0          MakeTicket           Survey           7 days 21:37:30\n",
       "1       ArrangeSurvey     InternRepair           6 days 18:52:00\n",
       "2  InformClientSurvey     ExternRepair           3 days 14:51:15\n",
       "3  InformClientSurvey           Survey 3 days 05:46:51.269841269\n",
       "4  InformClientSurvey     InternRepair 3 days 05:09:43.846153846\n",
       "5  InformClientSurvey  ImmediateRepair    3 days 02:31:22.500000\n",
       "6       ArrangeSurvey           Survey           3 days 00:22:20\n",
       "7              Survey     InternRepair 1 days 07:48:56.099071207"
      ]
     },
     "execution_count": 71,
     "metadata": {},
     "output_type": "execute_result"
    }
   ],
   "source": [
    "bottleneck_transitions_sorted"
   ]
  },
  {
   "cell_type": "markdown",
   "metadata": {},
   "source": [
    "### 🔍 병목현상 주요 패턴  \n",
    "\n",
    "##### 1️. MakeTicket → Survey (7.9일)  \n",
    "- 고객 요청이 등록된 후, 조사(Survey)가 진행되기까지 상당한 대기 시간이 발생.  \n",
    "- **주요 원인:** 일정 조정 문제, 조사 인력 부족  \n",
    "\n",
    "##### 2️. ArrangeSurvey → InternRepair (6.8일)  \n",
    "- 조사 완료 후, 내부 수리 진행까지 일정이 지연됨.  \n",
    "- **주요 원인:** 부품 준비, 기술자 배정  \n",
    "\n",
    "##### 3️. InformClientSurvey 관련 지연 (3~3.5일)  \n",
    "- InformClientSurvey(고객 연락 후 안내) 이후 Survey, InternRepair, ImmediateRepair로 가는 과정에서 3일 이상 지연됨.  \n",
    "- **주요 원인:** 고객 응답 대기, 일정 충돌  \n",
    "\n",
    "##### 4️. Survey → InternRepair (1.3일)  \n",
    "- 조사 완료 후 내부 수리로 진행되기까지 1일 이상 지연됨.  \n",
    "- **주요 원인:** 조사 결과 검토, 내부 인력 배정  \n"
   ]
  },
  {
   "cell_type": "markdown",
   "metadata": {},
   "source": [
    "#####  반복 작업 분석 : 동일 caseID 내에서 같은 taskID가 여러 번 수행되는 경우\n",
    "\n",
    "- eventtype 에서 같은 caseID의 같은 taskID에 'start' 와 'complete' 모두 존재할경우 'start' 만 남겨두기."
   ]
  },
  {
   "cell_type": "code",
   "execution_count": 64,
   "metadata": {},
   "outputs": [],
   "source": [
    "# 모든 caseID에서 동일한 taskID가 2번 이상 수행된 경우 찾기\n",
    "task_repeat_count = df.groupby(['caseID', 'taskID']).size().reset_index(name='count')\n",
    "\n",
    "# 2번 이상 수행된 taskID만 필터링\n",
    "task_repeat_count = task_repeat_count[task_repeat_count['count'] > 1]\n",
    "\n",
    "# 전체 프로세스에서 taskID별 반복 횟수 집계\n",
    "task_repeat_summary = task_repeat_count.groupby('taskID')['count'].sum().reset_index()\n",
    "\n",
    "# 같은 caseID 내에서 각 taskID가 평균 몇 번 반복되었는지 계산\n",
    "average_repeats = task_repeat_count.groupby('taskID')['count'].mean().reset_index()\n",
    "average_repeats = average_repeats.rename(columns={'count': 'avg_repeats_per_caseID'})\n",
    "\n",
    "# 반복 횟수와 평균 반복 횟수를 병합\n",
    "task_repeat_summary = task_repeat_summary.merge(average_repeats, on='taskID')\n",
    "\n",
    "# 반복 작업이 많이 발생한 순으로 정렬\n",
    "task_repeat_summary = task_repeat_summary.sort_values(by='count', ascending=False).reset_index(drop=True)"
   ]
  },
  {
   "cell_type": "code",
   "execution_count": 65,
   "metadata": {},
   "outputs": [
    {
     "data": {
      "text/html": [
       "<div>\n",
       "<style scoped>\n",
       "    .dataframe tbody tr th:only-of-type {\n",
       "        vertical-align: middle;\n",
       "    }\n",
       "\n",
       "    .dataframe tbody tr th {\n",
       "        vertical-align: top;\n",
       "    }\n",
       "\n",
       "    .dataframe thead th {\n",
       "        text-align: right;\n",
       "    }\n",
       "</style>\n",
       "<table border=\"1\" class=\"dataframe\">\n",
       "  <thead>\n",
       "    <tr style=\"text-align: right;\">\n",
       "      <th></th>\n",
       "      <th>taskID</th>\n",
       "      <th>count</th>\n",
       "      <th>avg_repeats_per_caseID</th>\n",
       "    </tr>\n",
       "  </thead>\n",
       "  <tbody>\n",
       "  </tbody>\n",
       "</table>\n",
       "</div>"
      ],
      "text/plain": [
       "Empty DataFrame\n",
       "Columns: [taskID, count, avg_repeats_per_caseID]\n",
       "Index: []"
      ]
     },
     "execution_count": 65,
     "metadata": {},
     "output_type": "execute_result"
    }
   ],
   "source": [
    "task_repeat_summary"
   ]
  },
  {
   "cell_type": "markdown",
   "metadata": {},
   "source": [
    "반복 작업은 존재하지 않음"
   ]
  },
  {
   "cell_type": "markdown",
   "metadata": {},
   "source": [
    "### 케이스 소요 시간에 영향을 미치는 데이터 요소 파악 \n",
    "🔹 **병목 현상이 있는 Task 전환 지점** → MakeTicket → Survey 과정에서 대기 시간이 많음.  \n",
    "🔹 **RepairType(수리 방식)** → 즉시 수리보다 내부/외부 수리가 시간이 오래 걸림.  \n",
    "🔹 **Originator(담당자)의 업무 속도 차이** → 특정 담당자가 처리할 때 시간이 길어지는 경우 존재.  \n",
    "🔹 **최초 접수 후 첫 업무까지의 대기 시간** → FirstContact 이후 첫 번째 업무까지 시간이 길면 전체 케이스가 길어짐.  \n",
    "\n",
    "##### 🚀 개선 방향  \n",
    "\n",
    "### MakeTicket → Survey 병목 현상 해결  \n",
    "- 조사 일정을 더 빠르게 배정할 수 있도록 프로세스 최적화.  \n",
    "\n",
    "### InternRepair / ExternRepair 지연 해결  \n",
    "- 내부 수리 프로세스 개선 및 외부 수리 업체와의 협업 강화.  \n",
    "\n",
    "### 업무 담당자별 업무 속도 분석 후 교육 진행  \n",
    "- 속도가 느린 담당자에게 효율적인 작업 방식 교육 제공.  \n",
    "\n",
    "### 최초 접수 후 지연 시간 단축  \n",
    "- FirstContact 후 24시간 내에 첫 작업을 시작하도록 **SLA(서비스 수준 계약)** 설정.  \n"
   ]
  },
  {
   "cell_type": "code",
   "execution_count": null,
   "metadata": {},
   "outputs": [],
   "source": []
  }
 ],
 "metadata": {
  "kernelspec": {
   "display_name": "Python 3",
   "language": "python",
   "name": "python3"
  },
  "language_info": {
   "codemirror_mode": {
    "name": "ipython",
    "version": 3
   },
   "file_extension": ".py",
   "mimetype": "text/x-python",
   "name": "python",
   "nbconvert_exporter": "python",
   "pygments_lexer": "ipython3",
   "version": "3.10.2"
  }
 },
 "nbformat": 4,
 "nbformat_minor": 2
}
